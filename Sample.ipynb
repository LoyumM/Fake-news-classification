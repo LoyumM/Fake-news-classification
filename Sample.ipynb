{
 "cells": [
  {
   "cell_type": "code",
   "execution_count": 26,
   "metadata": {},
   "outputs": [],
   "source": [
    "import numpy as np\n",
    "import pandas as pd\n",
    "import re\n",
    "import nltk\n",
    "from nltk.corpus import stopwords\n",
    "from nltk.stem.porter import PorterStemmer\n",
    "from tensorflow.keras.layers import Embedding\n",
    "from tensorflow.keras.preprocessing.text import one_hot\n",
    "from tensorflow.keras.preprocessing.sequence import pad_sequences\n",
    "from tensorflow.keras.models import Sequential\n",
    "from tensorflow.keras.layers import LSTM\n",
    "from tensorflow.keras.layers import Dense\n",
    "from tensorflow.keras.layers import Bidirectional\n",
    "from sklearn.feature_extraction.text import TfidfVectorizer\n",
    "from sklearn.model_selection import train_test_split\n",
    "from sklearn.linear_model import LogisticRegression\n",
    "from sklearn.metrics import accuracy_score\n",
    "from nltk.stem.porter import PorterStemmer\n",
    "from sklearn.metrics import confusion_matrix\n",
    "from sklearn.metrics import classification_report"
   ]
  },
  {
   "cell_type": "code",
   "execution_count": 2,
   "metadata": {},
   "outputs": [
    {
     "name": "stderr",
     "output_type": "stream",
     "text": [
      "[nltk_data] Downloading package stopwords to\n",
      "[nltk_data]     C:\\Users\\lmbmo\\AppData\\Roaming\\nltk_data...\n",
      "[nltk_data]   Package stopwords is already up-to-date!\n"
     ]
    },
    {
     "data": {
      "text/plain": [
       "True"
      ]
     },
     "execution_count": 2,
     "metadata": {},
     "output_type": "execute_result"
    }
   ],
   "source": [
    "nltk.download('stopwords')"
   ]
  },
  {
   "cell_type": "code",
   "execution_count": 3,
   "metadata": {},
   "outputs": [],
   "source": [
    "df = pd.read_csv(\"data.csv\")"
   ]
  },
  {
   "cell_type": "code",
   "execution_count": 4,
   "metadata": {},
   "outputs": [
    {
     "data": {
      "text/html": [
       "<div>\n",
       "<style scoped>\n",
       "    .dataframe tbody tr th:only-of-type {\n",
       "        vertical-align: middle;\n",
       "    }\n",
       "\n",
       "    .dataframe tbody tr th {\n",
       "        vertical-align: top;\n",
       "    }\n",
       "\n",
       "    .dataframe thead th {\n",
       "        text-align: right;\n",
       "    }\n",
       "</style>\n",
       "<table border=\"1\" class=\"dataframe\">\n",
       "  <thead>\n",
       "    <tr style=\"text-align: right;\">\n",
       "      <th></th>\n",
       "      <th>id</th>\n",
       "      <th>title</th>\n",
       "      <th>author</th>\n",
       "      <th>text</th>\n",
       "      <th>label</th>\n",
       "    </tr>\n",
       "  </thead>\n",
       "  <tbody>\n",
       "    <tr>\n",
       "      <th>0</th>\n",
       "      <td>0</td>\n",
       "      <td>House Dem Aide: We Didn’t Even See Comey’s Let...</td>\n",
       "      <td>Darrell Lucus</td>\n",
       "      <td>House Dem Aide: We Didn’t Even See Comey’s Let...</td>\n",
       "      <td>1</td>\n",
       "    </tr>\n",
       "    <tr>\n",
       "      <th>1</th>\n",
       "      <td>1</td>\n",
       "      <td>FLYNN: Hillary Clinton, Big Woman on Campus - ...</td>\n",
       "      <td>Daniel J. Flynn</td>\n",
       "      <td>Ever get the feeling your life circles the rou...</td>\n",
       "      <td>0</td>\n",
       "    </tr>\n",
       "    <tr>\n",
       "      <th>2</th>\n",
       "      <td>2</td>\n",
       "      <td>Why the Truth Might Get You Fired</td>\n",
       "      <td>Consortiumnews.com</td>\n",
       "      <td>Why the Truth Might Get You Fired October 29, ...</td>\n",
       "      <td>1</td>\n",
       "    </tr>\n",
       "    <tr>\n",
       "      <th>3</th>\n",
       "      <td>3</td>\n",
       "      <td>15 Civilians Killed In Single US Airstrike Hav...</td>\n",
       "      <td>Jessica Purkiss</td>\n",
       "      <td>Videos 15 Civilians Killed In Single US Airstr...</td>\n",
       "      <td>1</td>\n",
       "    </tr>\n",
       "    <tr>\n",
       "      <th>4</th>\n",
       "      <td>4</td>\n",
       "      <td>Iranian woman jailed for fictional unpublished...</td>\n",
       "      <td>Howard Portnoy</td>\n",
       "      <td>Print \\nAn Iranian woman has been sentenced to...</td>\n",
       "      <td>1</td>\n",
       "    </tr>\n",
       "  </tbody>\n",
       "</table>\n",
       "</div>"
      ],
      "text/plain": [
       "   id                                              title              author  \\\n",
       "0   0  House Dem Aide: We Didn’t Even See Comey’s Let...       Darrell Lucus   \n",
       "1   1  FLYNN: Hillary Clinton, Big Woman on Campus - ...     Daniel J. Flynn   \n",
       "2   2                  Why the Truth Might Get You Fired  Consortiumnews.com   \n",
       "3   3  15 Civilians Killed In Single US Airstrike Hav...     Jessica Purkiss   \n",
       "4   4  Iranian woman jailed for fictional unpublished...      Howard Portnoy   \n",
       "\n",
       "                                                text  label  \n",
       "0  House Dem Aide: We Didn’t Even See Comey’s Let...      1  \n",
       "1  Ever get the feeling your life circles the rou...      0  \n",
       "2  Why the Truth Might Get You Fired October 29, ...      1  \n",
       "3  Videos 15 Civilians Killed In Single US Airstr...      1  \n",
       "4  Print \\nAn Iranian woman has been sentenced to...      1  "
      ]
     },
     "execution_count": 4,
     "metadata": {},
     "output_type": "execute_result"
    }
   ],
   "source": [
    "df.head()"
   ]
  },
  {
   "cell_type": "code",
   "execution_count": 5,
   "metadata": {},
   "outputs": [
    {
     "data": {
      "text/plain": [
       "(20800, 5)"
      ]
     },
     "execution_count": 5,
     "metadata": {},
     "output_type": "execute_result"
    }
   ],
   "source": [
    "df.shape"
   ]
  },
  {
   "cell_type": "code",
   "execution_count": 6,
   "metadata": {},
   "outputs": [
    {
     "data": {
      "text/plain": [
       "id           0\n",
       "title      558\n",
       "author    1957\n",
       "text        39\n",
       "label        0\n",
       "dtype: int64"
      ]
     },
     "execution_count": 6,
     "metadata": {},
     "output_type": "execute_result"
    }
   ],
   "source": [
    "df.isnull().sum()"
   ]
  },
  {
   "cell_type": "code",
   "execution_count": 7,
   "metadata": {},
   "outputs": [
    {
     "data": {
      "text/plain": [
       "(18285, 5)"
      ]
     },
     "execution_count": 7,
     "metadata": {},
     "output_type": "execute_result"
    }
   ],
   "source": [
    "df = df.dropna()\n",
    "df.shape"
   ]
  },
  {
   "cell_type": "code",
   "execution_count": 8,
   "metadata": {},
   "outputs": [],
   "source": [
    "# merging the author name and news title\n",
    "df['content'] = df['author']+' '+df['title']"
   ]
  },
  {
   "cell_type": "code",
   "execution_count": 9,
   "metadata": {},
   "outputs": [
    {
     "data": {
      "text/plain": [
       "0    Darrell Lucus House Dem Aide: We Didn’t Even S...\n",
       "1    Daniel J. Flynn FLYNN: Hillary Clinton, Big Wo...\n",
       "2    Consortiumnews.com Why the Truth Might Get You...\n",
       "3    Jessica Purkiss 15 Civilians Killed In Single ...\n",
       "4    Howard Portnoy Iranian woman jailed for fictio...\n",
       "Name: content, dtype: object"
      ]
     },
     "execution_count": 9,
     "metadata": {},
     "output_type": "execute_result"
    }
   ],
   "source": [
    "df['content'].head()"
   ]
  },
  {
   "cell_type": "code",
   "execution_count": 10,
   "metadata": {},
   "outputs": [
    {
     "name": "stdout",
     "output_type": "stream",
     "text": [
      "(18285, 5)\n",
      "(18285,)\n"
     ]
    }
   ],
   "source": [
    "# getting the independent features\n",
    "X = df.drop('label', axis=1)\n",
    "# getting the dependent feature\n",
    "y = df['label']\n",
    "\n",
    "print(X.shape)\n",
    "print(y.shape)"
   ]
  },
  {
   "cell_type": "code",
   "execution_count": 11,
   "metadata": {},
   "outputs": [
    {
     "data": {
      "text/plain": [
       "'Daniel J. Flynn FLYNN: Hillary Clinton, Big Woman on Campus - Breitbart'"
      ]
     },
     "execution_count": 11,
     "metadata": {},
     "output_type": "execute_result"
    }
   ],
   "source": [
    "messages=X.copy()\n",
    "messages['content'][1]"
   ]
  },
  {
   "cell_type": "code",
   "execution_count": 12,
   "metadata": {},
   "outputs": [
    {
     "data": {
      "text/html": [
       "<div>\n",
       "<style scoped>\n",
       "    .dataframe tbody tr th:only-of-type {\n",
       "        vertical-align: middle;\n",
       "    }\n",
       "\n",
       "    .dataframe tbody tr th {\n",
       "        vertical-align: top;\n",
       "    }\n",
       "\n",
       "    .dataframe thead th {\n",
       "        text-align: right;\n",
       "    }\n",
       "</style>\n",
       "<table border=\"1\" class=\"dataframe\">\n",
       "  <thead>\n",
       "    <tr style=\"text-align: right;\">\n",
       "      <th></th>\n",
       "      <th>index</th>\n",
       "      <th>id</th>\n",
       "      <th>title</th>\n",
       "      <th>author</th>\n",
       "      <th>text</th>\n",
       "      <th>content</th>\n",
       "    </tr>\n",
       "  </thead>\n",
       "  <tbody>\n",
       "    <tr>\n",
       "      <th>0</th>\n",
       "      <td>0</td>\n",
       "      <td>0</td>\n",
       "      <td>House Dem Aide: We Didn’t Even See Comey’s Let...</td>\n",
       "      <td>Darrell Lucus</td>\n",
       "      <td>House Dem Aide: We Didn’t Even See Comey’s Let...</td>\n",
       "      <td>Darrell Lucus House Dem Aide: We Didn’t Even S...</td>\n",
       "    </tr>\n",
       "    <tr>\n",
       "      <th>1</th>\n",
       "      <td>1</td>\n",
       "      <td>1</td>\n",
       "      <td>FLYNN: Hillary Clinton, Big Woman on Campus - ...</td>\n",
       "      <td>Daniel J. Flynn</td>\n",
       "      <td>Ever get the feeling your life circles the rou...</td>\n",
       "      <td>Daniel J. Flynn FLYNN: Hillary Clinton, Big Wo...</td>\n",
       "    </tr>\n",
       "    <tr>\n",
       "      <th>2</th>\n",
       "      <td>2</td>\n",
       "      <td>2</td>\n",
       "      <td>Why the Truth Might Get You Fired</td>\n",
       "      <td>Consortiumnews.com</td>\n",
       "      <td>Why the Truth Might Get You Fired October 29, ...</td>\n",
       "      <td>Consortiumnews.com Why the Truth Might Get You...</td>\n",
       "    </tr>\n",
       "    <tr>\n",
       "      <th>3</th>\n",
       "      <td>3</td>\n",
       "      <td>3</td>\n",
       "      <td>15 Civilians Killed In Single US Airstrike Hav...</td>\n",
       "      <td>Jessica Purkiss</td>\n",
       "      <td>Videos 15 Civilians Killed In Single US Airstr...</td>\n",
       "      <td>Jessica Purkiss 15 Civilians Killed In Single ...</td>\n",
       "    </tr>\n",
       "    <tr>\n",
       "      <th>4</th>\n",
       "      <td>4</td>\n",
       "      <td>4</td>\n",
       "      <td>Iranian woman jailed for fictional unpublished...</td>\n",
       "      <td>Howard Portnoy</td>\n",
       "      <td>Print \\nAn Iranian woman has been sentenced to...</td>\n",
       "      <td>Howard Portnoy Iranian woman jailed for fictio...</td>\n",
       "    </tr>\n",
       "    <tr>\n",
       "      <th>...</th>\n",
       "      <td>...</td>\n",
       "      <td>...</td>\n",
       "      <td>...</td>\n",
       "      <td>...</td>\n",
       "      <td>...</td>\n",
       "      <td>...</td>\n",
       "    </tr>\n",
       "    <tr>\n",
       "      <th>18280</th>\n",
       "      <td>20795</td>\n",
       "      <td>20795</td>\n",
       "      <td>Rapper T.I.: Trump a ’Poster Child For White S...</td>\n",
       "      <td>Jerome Hudson</td>\n",
       "      <td>Rapper T. I. unloaded on black celebrities who...</td>\n",
       "      <td>Jerome Hudson Rapper T.I.: Trump a ’Poster Chi...</td>\n",
       "    </tr>\n",
       "    <tr>\n",
       "      <th>18281</th>\n",
       "      <td>20796</td>\n",
       "      <td>20796</td>\n",
       "      <td>N.F.L. Playoffs: Schedule, Matchups and Odds -...</td>\n",
       "      <td>Benjamin Hoffman</td>\n",
       "      <td>When the Green Bay Packers lost to the Washing...</td>\n",
       "      <td>Benjamin Hoffman N.F.L. Playoffs: Schedule, Ma...</td>\n",
       "    </tr>\n",
       "    <tr>\n",
       "      <th>18282</th>\n",
       "      <td>20797</td>\n",
       "      <td>20797</td>\n",
       "      <td>Macy’s Is Said to Receive Takeover Approach by...</td>\n",
       "      <td>Michael J. de la Merced and Rachel Abrams</td>\n",
       "      <td>The Macy’s of today grew from the union of sev...</td>\n",
       "      <td>Michael J. de la Merced and Rachel Abrams Macy...</td>\n",
       "    </tr>\n",
       "    <tr>\n",
       "      <th>18283</th>\n",
       "      <td>20798</td>\n",
       "      <td>20798</td>\n",
       "      <td>NATO, Russia To Hold Parallel Exercises In Bal...</td>\n",
       "      <td>Alex Ansary</td>\n",
       "      <td>NATO, Russia To Hold Parallel Exercises In Bal...</td>\n",
       "      <td>Alex Ansary NATO, Russia To Hold Parallel Exer...</td>\n",
       "    </tr>\n",
       "    <tr>\n",
       "      <th>18284</th>\n",
       "      <td>20799</td>\n",
       "      <td>20799</td>\n",
       "      <td>What Keeps the F-35 Alive</td>\n",
       "      <td>David Swanson</td>\n",
       "      <td>David Swanson is an author, activist, journa...</td>\n",
       "      <td>David Swanson What Keeps the F-35 Alive</td>\n",
       "    </tr>\n",
       "  </tbody>\n",
       "</table>\n",
       "<p>18285 rows × 6 columns</p>\n",
       "</div>"
      ],
      "text/plain": [
       "       index     id                                              title  \\\n",
       "0          0      0  House Dem Aide: We Didn’t Even See Comey’s Let...   \n",
       "1          1      1  FLYNN: Hillary Clinton, Big Woman on Campus - ...   \n",
       "2          2      2                  Why the Truth Might Get You Fired   \n",
       "3          3      3  15 Civilians Killed In Single US Airstrike Hav...   \n",
       "4          4      4  Iranian woman jailed for fictional unpublished...   \n",
       "...      ...    ...                                                ...   \n",
       "18280  20795  20795  Rapper T.I.: Trump a ’Poster Child For White S...   \n",
       "18281  20796  20796  N.F.L. Playoffs: Schedule, Matchups and Odds -...   \n",
       "18282  20797  20797  Macy’s Is Said to Receive Takeover Approach by...   \n",
       "18283  20798  20798  NATO, Russia To Hold Parallel Exercises In Bal...   \n",
       "18284  20799  20799                          What Keeps the F-35 Alive   \n",
       "\n",
       "                                          author  \\\n",
       "0                                  Darrell Lucus   \n",
       "1                                Daniel J. Flynn   \n",
       "2                             Consortiumnews.com   \n",
       "3                                Jessica Purkiss   \n",
       "4                                 Howard Portnoy   \n",
       "...                                          ...   \n",
       "18280                              Jerome Hudson   \n",
       "18281                           Benjamin Hoffman   \n",
       "18282  Michael J. de la Merced and Rachel Abrams   \n",
       "18283                                Alex Ansary   \n",
       "18284                              David Swanson   \n",
       "\n",
       "                                                    text  \\\n",
       "0      House Dem Aide: We Didn’t Even See Comey’s Let...   \n",
       "1      Ever get the feeling your life circles the rou...   \n",
       "2      Why the Truth Might Get You Fired October 29, ...   \n",
       "3      Videos 15 Civilians Killed In Single US Airstr...   \n",
       "4      Print \\nAn Iranian woman has been sentenced to...   \n",
       "...                                                  ...   \n",
       "18280  Rapper T. I. unloaded on black celebrities who...   \n",
       "18281  When the Green Bay Packers lost to the Washing...   \n",
       "18282  The Macy’s of today grew from the union of sev...   \n",
       "18283  NATO, Russia To Hold Parallel Exercises In Bal...   \n",
       "18284    David Swanson is an author, activist, journa...   \n",
       "\n",
       "                                                 content  \n",
       "0      Darrell Lucus House Dem Aide: We Didn’t Even S...  \n",
       "1      Daniel J. Flynn FLYNN: Hillary Clinton, Big Wo...  \n",
       "2      Consortiumnews.com Why the Truth Might Get You...  \n",
       "3      Jessica Purkiss 15 Civilians Killed In Single ...  \n",
       "4      Howard Portnoy Iranian woman jailed for fictio...  \n",
       "...                                                  ...  \n",
       "18280  Jerome Hudson Rapper T.I.: Trump a ’Poster Chi...  \n",
       "18281  Benjamin Hoffman N.F.L. Playoffs: Schedule, Ma...  \n",
       "18282  Michael J. de la Merced and Rachel Abrams Macy...  \n",
       "18283  Alex Ansary NATO, Russia To Hold Parallel Exer...  \n",
       "18284            David Swanson What Keeps the F-35 Alive  \n",
       "\n",
       "[18285 rows x 6 columns]"
      ]
     },
     "execution_count": 12,
     "metadata": {},
     "output_type": "execute_result"
    }
   ],
   "source": [
    "messages.reset_index(inplace=True)\n",
    "messages"
   ]
  },
  {
   "attachments": {},
   "cell_type": "markdown",
   "metadata": {},
   "source": [
    "### Preprocessing and stemming"
   ]
  },
  {
   "cell_type": "code",
   "execution_count": 13,
   "metadata": {},
   "outputs": [],
   "source": [
    "# Dataset Preprocessing\n",
    "ps = PorterStemmer()\n",
    "corpus = []\n",
    "for i in range(len(messages)):\n",
    "    review = re.sub('[^a-zA-Z]', ' ', messages['content'][i])\n",
    "    review = review.lower()\n",
    "    review = review.split()\n",
    "    \n",
    "    review = [ps.stem(word) for word in review if not word in stopwords.words('english')]\n",
    "    review = ' '.join(review)\n",
    "    corpus.append(review)"
   ]
  },
  {
   "cell_type": "code",
   "execution_count": 14,
   "metadata": {},
   "outputs": [
    {
     "data": {
      "text/plain": [
       "['daniel j flynn flynn hillari clinton big woman campu breitbart',\n",
       " 'consortiumnew com truth might get fire',\n",
       " 'jessica purkiss civilian kill singl us airstrik identifi',\n",
       " 'howard portnoy iranian woman jail fiction unpublish stori woman stone death adulteri',\n",
       " 'daniel nussbaum jacki mason hollywood would love trump bomb north korea lack tran bathroom exclus video breitbart',\n",
       " 'alissa j rubin beno hamon win french socialist parti presidenti nomin new york time',\n",
       " 'megan twohey scott shane back channel plan ukrain russia courtesi trump associ new york time',\n",
       " 'aaron klein obama organ action partner soro link indivis disrupt trump agenda',\n",
       " 'chri tomlinson bbc comedi sketch real housew isi caus outrag']"
      ]
     },
     "execution_count": 14,
     "metadata": {},
     "output_type": "execute_result"
    }
   ],
   "source": [
    "corpus[1:10]"
   ]
  },
  {
   "cell_type": "code",
   "execution_count": 15,
   "metadata": {},
   "outputs": [
    {
     "data": {
      "text/plain": [
       "[[5350, 4884, 4930, 4930, 6603, 2831, 6150, 5073, 3146, 6232],\n",
       " [9719, 9584, 8994, 5063, 8141, 2898]]"
      ]
     },
     "execution_count": 15,
     "metadata": {},
     "output_type": "execute_result"
    }
   ],
   "source": [
    "## one hot representation\n",
    "voc_size=10000\n",
    "onehot_repr=[one_hot(words,voc_size)for words in corpus] \n",
    "onehot_repr[1:3]"
   ]
  },
  {
   "cell_type": "code",
   "execution_count": 25,
   "metadata": {},
   "outputs": [
    {
     "name": "stdout",
     "output_type": "stream",
     "text": [
      "darrel lucu hous dem aid even see comey letter jason chaffetz tweet\n",
      "[1970, 432, 5482, 9450, 6829, 2055, 8333, 7957, 4426, 4815, 652, 4544]\n"
     ]
    }
   ],
   "source": [
    "print(corpus[0])\n",
    "print(onehot_repr[0])"
   ]
  },
  {
   "attachments": {},
   "cell_type": "markdown",
   "metadata": {},
   "source": [
    "### Embedding representation"
   ]
  },
  {
   "cell_type": "code",
   "execution_count": 18,
   "metadata": {},
   "outputs": [
    {
     "name": "stdout",
     "output_type": "stream",
     "text": [
      "[[1970  432 5482 ...    0    0    0]\n",
      " [5350 4884 4930 ...    0    0    0]\n",
      " [9719 9584 8994 ...    0    0    0]\n",
      " ...\n",
      " [1912 4884 7669 ...    0    0    0]\n",
      " [9500 2281 5420 ...    0    0    0]\n",
      " [6625  833 8830 ...    0    0    0]]\n"
     ]
    }
   ],
   "source": [
    "sent_length=25\n",
    "embedded_docs=pad_sequences(onehot_repr,padding='post',maxlen=sent_length)\n",
    "print(embedded_docs)"
   ]
  },
  {
   "attachments": {},
   "cell_type": "markdown",
   "metadata": {},
   "source": [
    "### Creating model"
   ]
  },
  {
   "cell_type": "code",
   "execution_count": 27,
   "metadata": {},
   "outputs": [
    {
     "name": "stdout",
     "output_type": "stream",
     "text": [
      "Model: \"sequential_1\"\n",
      "_________________________________________________________________\n",
      " Layer (type)                Output Shape              Param #   \n",
      "=================================================================\n",
      " embedding_1 (Embedding)     (None, 25, 40)            400000    \n",
      "                                                                 \n",
      " bidirectional (Bidirectiona  (None, 200)              112800    \n",
      " l)                                                              \n",
      "                                                                 \n",
      " dense_1 (Dense)             (None, 1)                 201       \n",
      "                                                                 \n",
      "=================================================================\n",
      "Total params: 513,001\n",
      "Trainable params: 513,001\n",
      "Non-trainable params: 0\n",
      "_________________________________________________________________\n",
      "None\n"
     ]
    }
   ],
   "source": [
    "## creating model\n",
    "embedded_vector_features=40#number of features\n",
    "model=Sequential()\n",
    "model.add(Embedding(voc_size,embedded_vector_features,input_length=sent_length))\n",
    "model.add(Bidirectional(LSTM(100)))#number of nuerons\n",
    "model.add(Dense(1,activation='sigmoid'))# as it is binary classifier\n",
    "model.compile(loss='binary_crossentropy',optimizer='adam',metrics=['accuracy'])\n",
    "print(model.summary())"
   ]
  },
  {
   "cell_type": "code",
   "execution_count": 28,
   "metadata": {},
   "outputs": [],
   "source": [
    "X_final=np.array(embedded_docs)\n",
    "y_final=np.array(y)"
   ]
  },
  {
   "cell_type": "code",
   "execution_count": 29,
   "metadata": {},
   "outputs": [
    {
     "data": {
      "text/plain": [
       "((18285, 25), (18285,))"
      ]
     },
     "execution_count": 29,
     "metadata": {},
     "output_type": "execute_result"
    }
   ],
   "source": [
    "X_final.shape,y_final.shape"
   ]
  },
  {
   "cell_type": "code",
   "execution_count": 30,
   "metadata": {},
   "outputs": [],
   "source": [
    "X_train, X_test, y_train, y_test = train_test_split(X_final, y_final, test_size=0.3, random_state=33)"
   ]
  },
  {
   "cell_type": "code",
   "execution_count": 31,
   "metadata": {},
   "outputs": [
    {
     "name": "stdout",
     "output_type": "stream",
     "text": [
      "Epoch 1/40\n",
      "400/400 [==============================] - 20s 35ms/step - loss: 0.1411 - accuracy: 0.9352 - val_loss: 0.0366 - val_accuracy: 0.9896\n",
      "Epoch 2/40\n",
      "400/400 [==============================] - 13s 34ms/step - loss: 0.0143 - accuracy: 0.9955 - val_loss: 0.0339 - val_accuracy: 0.9876\n",
      "Epoch 3/40\n",
      "400/400 [==============================] - 12s 30ms/step - loss: 0.0073 - accuracy: 0.9979 - val_loss: 0.0362 - val_accuracy: 0.9894\n",
      "Epoch 4/40\n",
      "400/400 [==============================] - 12s 30ms/step - loss: 0.0019 - accuracy: 0.9995 - val_loss: 0.0436 - val_accuracy: 0.9892\n",
      "Epoch 5/40\n",
      "400/400 [==============================] - 12s 30ms/step - loss: 0.0111 - accuracy: 0.9974 - val_loss: 0.0557 - val_accuracy: 0.9820\n",
      "Epoch 6/40\n",
      "400/400 [==============================] - 12s 29ms/step - loss: 0.0053 - accuracy: 0.9987 - val_loss: 0.0436 - val_accuracy: 0.9871\n",
      "Epoch 7/40\n",
      "400/400 [==============================] - 12s 30ms/step - loss: 0.0040 - accuracy: 0.9985 - val_loss: 0.0866 - val_accuracy: 0.9796\n",
      "Epoch 8/40\n",
      "400/400 [==============================] - 12s 30ms/step - loss: 0.0012 - accuracy: 0.9997 - val_loss: 0.0743 - val_accuracy: 0.9843\n",
      "Epoch 9/40\n",
      "400/400 [==============================] - 12s 30ms/step - loss: 1.6416e-04 - accuracy: 1.0000 - val_loss: 0.0744 - val_accuracy: 0.9858\n",
      "Epoch 10/40\n",
      "400/400 [==============================] - 12s 31ms/step - loss: 2.1410e-04 - accuracy: 0.9999 - val_loss: 0.1005 - val_accuracy: 0.9843\n",
      "Epoch 11/40\n",
      "400/400 [==============================] - 12s 30ms/step - loss: 8.1799e-05 - accuracy: 1.0000 - val_loss: 0.1653 - val_accuracy: 0.9765\n",
      "Epoch 12/40\n",
      "400/400 [==============================] - 12s 29ms/step - loss: 4.0210e-05 - accuracy: 1.0000 - val_loss: 0.1166 - val_accuracy: 0.9829\n",
      "Epoch 13/40\n",
      "400/400 [==============================] - 12s 30ms/step - loss: 1.5490e-05 - accuracy: 1.0000 - val_loss: 0.1215 - val_accuracy: 0.9827\n",
      "Epoch 14/40\n",
      "400/400 [==============================] - 12s 29ms/step - loss: 1.1695e-05 - accuracy: 1.0000 - val_loss: 0.1263 - val_accuracy: 0.9821\n",
      "Epoch 15/40\n",
      "400/400 [==============================] - 12s 29ms/step - loss: 9.0833e-06 - accuracy: 1.0000 - val_loss: 0.1310 - val_accuracy: 0.9820\n",
      "Epoch 16/40\n",
      "400/400 [==============================] - 12s 30ms/step - loss: 7.0732e-06 - accuracy: 1.0000 - val_loss: 0.1360 - val_accuracy: 0.9814\n",
      "Epoch 17/40\n",
      "400/400 [==============================] - 12s 30ms/step - loss: 5.5853e-06 - accuracy: 1.0000 - val_loss: 0.1425 - val_accuracy: 0.9812\n",
      "Epoch 18/40\n",
      "400/400 [==============================] - 15s 38ms/step - loss: 4.4011e-06 - accuracy: 1.0000 - val_loss: 0.1491 - val_accuracy: 0.9807\n",
      "Epoch 19/40\n",
      "400/400 [==============================] - 14s 34ms/step - loss: 3.4805e-06 - accuracy: 1.0000 - val_loss: 0.1554 - val_accuracy: 0.9799\n",
      "Epoch 20/40\n",
      "400/400 [==============================] - 12s 30ms/step - loss: 2.7058e-06 - accuracy: 1.0000 - val_loss: 0.1616 - val_accuracy: 0.9799\n",
      "Epoch 21/40\n",
      "400/400 [==============================] - 12s 31ms/step - loss: 2.0627e-06 - accuracy: 1.0000 - val_loss: 0.1675 - val_accuracy: 0.9794\n",
      "Epoch 22/40\n",
      "400/400 [==============================] - 12s 29ms/step - loss: 1.6145e-06 - accuracy: 1.0000 - val_loss: 0.1745 - val_accuracy: 0.9794\n",
      "Epoch 23/40\n",
      "400/400 [==============================] - 12s 29ms/step - loss: 1.2861e-06 - accuracy: 1.0000 - val_loss: 0.1813 - val_accuracy: 0.9789\n",
      "Epoch 24/40\n",
      "400/400 [==============================] - 12s 29ms/step - loss: 1.0340e-06 - accuracy: 1.0000 - val_loss: 0.1852 - val_accuracy: 0.9790\n",
      "Epoch 25/40\n",
      "400/400 [==============================] - 11s 28ms/step - loss: 8.4012e-07 - accuracy: 1.0000 - val_loss: 0.1891 - val_accuracy: 0.9785\n",
      "Epoch 26/40\n",
      "400/400 [==============================] - 11s 28ms/step - loss: 6.8748e-07 - accuracy: 1.0000 - val_loss: 0.1928 - val_accuracy: 0.9781\n",
      "Epoch 27/40\n",
      "400/400 [==============================] - 12s 29ms/step - loss: 5.6991e-07 - accuracy: 1.0000 - val_loss: 0.1965 - val_accuracy: 0.9779\n",
      "Epoch 28/40\n",
      "400/400 [==============================] - 12s 29ms/step - loss: 4.7192e-07 - accuracy: 1.0000 - val_loss: 0.1994 - val_accuracy: 0.9778\n",
      "Epoch 29/40\n",
      "400/400 [==============================] - 12s 29ms/step - loss: 3.9900e-07 - accuracy: 1.0000 - val_loss: 0.2054 - val_accuracy: 0.9776\n",
      "Epoch 30/40\n",
      "400/400 [==============================] - 11s 29ms/step - loss: 3.2706e-07 - accuracy: 1.0000 - val_loss: 0.2080 - val_accuracy: 0.9774\n",
      "Epoch 31/40\n",
      "400/400 [==============================] - 12s 29ms/step - loss: 2.7422e-07 - accuracy: 1.0000 - val_loss: 0.2113 - val_accuracy: 0.9774\n",
      "Epoch 32/40\n",
      "400/400 [==============================] - 12s 30ms/step - loss: 2.3049e-07 - accuracy: 1.0000 - val_loss: 0.2147 - val_accuracy: 0.9774\n",
      "Epoch 33/40\n",
      "400/400 [==============================] - 12s 29ms/step - loss: 1.9397e-07 - accuracy: 1.0000 - val_loss: 0.2183 - val_accuracy: 0.9770\n",
      "Epoch 34/40\n",
      "400/400 [==============================] - 12s 30ms/step - loss: 1.6321e-07 - accuracy: 1.0000 - val_loss: 0.2221 - val_accuracy: 0.9767\n",
      "Epoch 35/40\n",
      "400/400 [==============================] - 12s 29ms/step - loss: 1.3717e-07 - accuracy: 1.0000 - val_loss: 0.2258 - val_accuracy: 0.9763\n",
      "Epoch 36/40\n",
      "400/400 [==============================] - 12s 30ms/step - loss: 1.1503e-07 - accuracy: 1.0000 - val_loss: 0.2294 - val_accuracy: 0.9763\n",
      "Epoch 37/40\n",
      "400/400 [==============================] - 12s 30ms/step - loss: 9.6372e-08 - accuracy: 1.0000 - val_loss: 0.2335 - val_accuracy: 0.9759\n",
      "Epoch 38/40\n",
      "400/400 [==============================] - 12s 31ms/step - loss: 8.0711e-08 - accuracy: 1.0000 - val_loss: 0.2376 - val_accuracy: 0.9756\n",
      "Epoch 39/40\n",
      "400/400 [==============================] - 12s 30ms/step - loss: 6.7675e-08 - accuracy: 1.0000 - val_loss: 0.2416 - val_accuracy: 0.9756\n",
      "Epoch 40/40\n",
      "400/400 [==============================] - 12s 29ms/step - loss: 5.6855e-08 - accuracy: 1.0000 - val_loss: 0.2453 - val_accuracy: 0.9752\n"
     ]
    },
    {
     "data": {
      "text/plain": [
       "<keras.callbacks.History at 0x2d482fdea70>"
      ]
     },
     "execution_count": 31,
     "metadata": {},
     "output_type": "execute_result"
    }
   ],
   "source": [
    "##model training\n",
    "model.fit(X_train, y_train, validation_data=(X_test, y_test),epochs=40, batch_size=32)"
   ]
  },
  {
   "cell_type": "code",
   "execution_count": 32,
   "metadata": {},
   "outputs": [
    {
     "name": "stdout",
     "output_type": "stream",
     "text": [
      "172/172 [==============================] - 3s 8ms/step\n"
     ]
    }
   ],
   "source": [
    "y_pred=model.predict(X_test)"
   ]
  },
  {
   "cell_type": "code",
   "execution_count": 33,
   "metadata": {},
   "outputs": [],
   "source": [
    "y_pred=np.where(y_pred>=0.5,1,0)"
   ]
  },
  {
   "cell_type": "code",
   "execution_count": 34,
   "metadata": {},
   "outputs": [
    {
     "name": "stdout",
     "output_type": "stream",
     "text": [
      "[[3107   49]\n",
      " [  87 2243]]\n",
      "Accuracy is 0.9752096244987241\n",
      "              precision    recall  f1-score   support\n",
      "\n",
      "           0       0.97      0.98      0.98      3156\n",
      "           1       0.98      0.96      0.97      2330\n",
      "\n",
      "    accuracy                           0.98      5486\n",
      "   macro avg       0.98      0.97      0.97      5486\n",
      "weighted avg       0.98      0.98      0.98      5486\n",
      "\n"
     ]
    }
   ],
   "source": [
    "conf_mat = confusion_matrix(y_test,y_pred)\n",
    "acc = accuracy_score(y_test,y_pred)\n",
    "class_rep = classification_report(y_test,y_pred)\n",
    "\n",
    "print(conf_mat)\n",
    "print(f'Accuracy is {acc}')\n",
    "print(class_rep)"
   ]
  }
 ],
 "metadata": {
  "kernelspec": {
   "display_name": "Python 3",
   "language": "python",
   "name": "python3"
  },
  "language_info": {
   "codemirror_mode": {
    "name": "ipython",
    "version": 3
   },
   "file_extension": ".py",
   "mimetype": "text/x-python",
   "name": "python",
   "nbconvert_exporter": "python",
   "pygments_lexer": "ipython3",
   "version": "3.10.7"
  },
  "orig_nbformat": 4,
  "vscode": {
   "interpreter": {
    "hash": "0e71fac087ff239f97a80677af45088458db37fbf8ef0a2691e8afa292e413fd"
   }
  }
 },
 "nbformat": 4,
 "nbformat_minor": 2
}
